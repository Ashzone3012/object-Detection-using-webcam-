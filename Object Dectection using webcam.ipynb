{
 "cells": [
  {
   "cell_type": "markdown",
   "id": "aef72634-48df-4d84-b18e-86b7855fc85c",
   "metadata": {},
   "source": [
    "### Object Detection using webcam "
   ]
  },
  {
   "cell_type": "markdown",
   "id": "d805aa9a-684a-4f87-a1af-f65def7b7cdd",
   "metadata": {},
   "source": [
    "###### Highly Recommanded that using \"Jupyter Notebook\" because you camera acesses only by jupyter"
   ]
  },
  {
   "cell_type": "code",
   "execution_count": 15,
   "id": "51d7fe45-3d6a-4356-a3d3-9ee175f174f3",
   "metadata": {},
   "outputs": [
    {
     "name": "stdout",
     "output_type": "stream",
     "text": [
      "Output layers: ['yolo_82', 'yolo_94', 'yolo_106']\n"
     ]
    }
   ],
   "source": [
    "import cv2\n",
    "import numpy as np\n",
    "\n",
    "# Load YOLO model\n",
    "net = cv2.dnn.readNetFromDarknet(\"yolov3.cfg\", \"yolov3.weights\")\n",
    "\n",
    "# Get the names of all layers in the network\n",
    "layer_names = net.getLayerNames()\n",
    "\n",
    "# Get the output layer names\n",
    "unconnected_out_layers = net.getUnconnectedOutLayers()\n",
    "\n",
    "# Check if the output is a 2D array or a 1D array/scalar\n",
    "if len(unconnected_out_layers.shape) == 2:\n",
    "    output_layers = [layer_names[i[0] - 1] for i in unconnected_out_layers]\n",
    "else:\n",
    "    output_layers = [layer_names[i - 1] for i in unconnected_out_layers]\n",
    "\n",
    "# Generate random colors for each class\n",
    "colors = np.random.uniform(0, 255, size=(len(classes), 3))\n",
    "\n",
    "print(\"Output layers:\", output_layers)"
   ]
  },
  {
   "cell_type": "code",
   "execution_count": 21,
   "id": "576ba6f3-c98c-4f8f-8803-c52fe53558fa",
   "metadata": {},
   "outputs": [],
   "source": [
    "video = cv2.VideoCapture(0)\n",
    "\n",
    "\n",
    "while True:\n",
    "\n",
    "    ret,img=video.read()\n",
    "    height, width, channels = img.shape\n",
    "    # Detecting objects\n",
    "\n",
    "    blob = cv2.dnn.blobFromImage(img, 0.00392, (416, 416), (0, 0, 0), True, crop=False)\n",
    "\n",
    "    net.setInput(blob)\n",
    "\n",
    "    outs = net.forward(output_layers)\n",
    "    # Showing informations on the screen\n",
    "\n",
    "    class_ids = []\n",
    "\n",
    "    confidences = []\n",
    "\n",
    "    boxes = []\n",
    "\n",
    "    for out in outs:\n",
    "\n",
    "        for detection in out:\n",
    "\n",
    "            scores = detection[5:]\n",
    "\n",
    "            class_id = np.argmax(scores)\n",
    "\n",
    "            confidence = scores[class_id]\n",
    "\n",
    "            if confidence > 0.5:\n",
    "\n",
    "                # Object detected\n",
    "\n",
    "                center_x = int(detection[0] * width)\n",
    "\n",
    "                center_y = int(detection[1] * height)\n",
    "\n",
    "                w = int(detection[2] * width)\n",
    "\n",
    "                h = int(detection[3] * height)\n",
    "\n",
    "                # Rectangle coordinates\n",
    "\n",
    "                x = int(center_x - w / 2)\n",
    "\n",
    "                y = int(center_y - h / 2)\n",
    "\n",
    "                boxes.append([x, y, w, h])\n",
    "\n",
    "                confidences.append(float(confidence))\n",
    "\n",
    "                class_ids.append(class_id)\n",
    "\n",
    "    indexes = cv2.dnn.NMSBoxes(boxes, confidences, 0.5, 0.4)\n",
    "\n",
    "    #print(indexes)\n",
    "\n",
    "    font = cv2.FONT_HERSHEY_PLAIN\n",
    "    for i in range(len(boxes)):\n",
    "\n",
    "        if i in indexes:\n",
    "\n",
    "            x, y, w, h = boxes[i]\n",
    "\n",
    "            label = str(classes[class_ids[i]])\n",
    "\n",
    "            color = colors[i]\n",
    "\n",
    "            cv2.rectangle(img, (x, y), (x + w, y + h), color, 2)\n",
    "\n",
    "            cv2.putText(img, label, (x, y + 30), font, 3, color, 2)    \n",
    "\n",
    "    #frame = cv2.resize(frame, None, fx=2, fy=2)\n",
    "    cv2.imshow(\"running video\", img)\n",
    "    \n",
    "    if cv2.waitKey(30) & 0xFF==ord('q'):\n",
    "        break\n",
    "video.release()\n",
    "cv2.destroyAllWindows()"
   ]
  },
  {
   "cell_type": "code",
   "execution_count": null,
   "id": "0786d8f8-2761-4952-b9a8-58b5496b66c9",
   "metadata": {},
   "outputs": [],
   "source": []
  }
 ],
 "metadata": {
  "kernelspec": {
   "display_name": "Python 3 (ipykernel)",
   "language": "python",
   "name": "python3"
  },
  "language_info": {
   "codemirror_mode": {
    "name": "ipython",
    "version": 3
   },
   "file_extension": ".py",
   "mimetype": "text/x-python",
   "name": "python",
   "nbconvert_exporter": "python",
   "pygments_lexer": "ipython3",
   "version": "3.12.4"
  }
 },
 "nbformat": 4,
 "nbformat_minor": 5
}
